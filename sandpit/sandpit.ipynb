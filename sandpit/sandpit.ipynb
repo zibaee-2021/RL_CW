{
 "cells": [
  {
   "cell_type": "code",
   "execution_count": 2,
   "id": "b03725b6",
   "metadata": {},
   "outputs": [],
   "source": [
    "import numpy as np"
   ]
  },
  {
   "cell_type": "code",
   "execution_count": 9,
   "id": "016d4c70",
   "metadata": {},
   "outputs": [
    {
     "data": {
      "text/plain": [
       "array([5, 1, 4])"
      ]
     },
     "execution_count": 9,
     "metadata": {},
     "output_type": "execute_result"
    }
   ],
   "source": [
    "action_prefs = np.array([5,1,4])\n",
    "action_prefs"
   ]
  },
  {
   "cell_type": "code",
   "execution_count": 10,
   "id": "1a49857d",
   "metadata": {},
   "outputs": [
    {
     "data": {
      "text/plain": [
       "42"
      ]
     },
     "execution_count": 10,
     "metadata": {},
     "output_type": "execute_result"
    }
   ],
   "source": [
    "np.sum(action_prefs**2)"
   ]
  },
  {
   "cell_type": "code",
   "execution_count": 13,
   "id": "48b4a724",
   "metadata": {},
   "outputs": [],
   "source": [
    "previous_action = 0"
   ]
  },
  {
   "cell_type": "code",
   "execution_count": 14,
   "id": "39b4adfe",
   "metadata": {},
   "outputs": [
    {
     "data": {
      "text/plain": [
       "25"
      ]
     },
     "execution_count": 14,
     "metadata": {},
     "output_type": "execute_result"
    }
   ],
   "source": [
    "action_prefs[previous_action]**2"
   ]
  },
  {
   "cell_type": "code",
   "execution_count": 17,
   "id": "729258b5",
   "metadata": {},
   "outputs": [
    {
     "data": {
      "text/plain": [
       "array([0., 0., 0.])"
      ]
     },
     "execution_count": 17,
     "metadata": {},
     "output_type": "execute_result"
    }
   ],
   "source": [
    "pi = np.zeros(3)\n",
    "pi"
   ]
  },
  {
   "cell_type": "code",
   "execution_count": 18,
   "id": "996ae2ea",
   "metadata": {},
   "outputs": [],
   "source": [
    "pi[previous_action] = action_prefs[previous_action]**2 / np.sum(action_prefs**2)"
   ]
  },
  {
   "cell_type": "code",
   "execution_count": 19,
   "id": "05afebfd",
   "metadata": {},
   "outputs": [
    {
     "data": {
      "text/plain": [
       "array([0.5952381, 0.       , 0.       ])"
      ]
     },
     "execution_count": 19,
     "metadata": {},
     "output_type": "execute_result"
    }
   ],
   "source": [
    "pi"
   ]
  },
  {
   "cell_type": "code",
   "execution_count": 20,
   "id": "39282a7b",
   "metadata": {},
   "outputs": [],
   "source": [
    "previous_action = 1\n",
    "pi[previous_action] = action_prefs[previous_action]**2 / np.sum(action_prefs**2)"
   ]
  },
  {
   "cell_type": "code",
   "execution_count": 21,
   "id": "5fb5b355",
   "metadata": {},
   "outputs": [
    {
     "data": {
      "text/plain": [
       "array([0.5952381 , 0.02380952, 0.        ])"
      ]
     },
     "execution_count": 21,
     "metadata": {},
     "output_type": "execute_result"
    }
   ],
   "source": [
    "pi"
   ]
  },
  {
   "cell_type": "code",
   "execution_count": 22,
   "id": "90a2ccde",
   "metadata": {},
   "outputs": [],
   "source": [
    "previous_action = 2\n",
    "pi[previous_action] = action_prefs[previous_action]**2 / np.sum(action_prefs**2)"
   ]
  },
  {
   "cell_type": "code",
   "execution_count": 23,
   "id": "edfc8251",
   "metadata": {},
   "outputs": [
    {
     "data": {
      "text/plain": [
       "array([0.5952381 , 0.02380952, 0.38095238])"
      ]
     },
     "execution_count": 23,
     "metadata": {},
     "output_type": "execute_result"
    }
   ],
   "source": [
    "pi"
   ]
  },
  {
   "cell_type": "code",
   "execution_count": 24,
   "id": "a23e13ba",
   "metadata": {},
   "outputs": [
    {
     "data": {
      "text/plain": [
       "1.0"
      ]
     },
     "execution_count": 24,
     "metadata": {},
     "output_type": "execute_result"
    }
   ],
   "source": [
    "np.sum(pi)"
   ]
  },
  {
   "cell_type": "code",
   "execution_count": null,
   "id": "ed5cbdb8",
   "metadata": {},
   "outputs": [],
   "source": [
    "# update prefs for action taken:\n",
    "# if baseline:\n",
    "for action in self._num_of_arms:\n",
    "    if action == previous_action:\n",
    "        action_prefs[previous_action] += self._alpha * (reward - self._baseline_avg_reward) * (1 - self._policy[previous_action])\n",
    "    else:\n",
    "        action_prefs[action] -= self._alpha * (reward - self._baseline_avg_reward) * self._policy[action])"
   ]
  },
  {
   "cell_type": "code",
   "execution_count": 28,
   "id": "56415656",
   "metadata": {},
   "outputs": [],
   "source": [
    "a = 3\n",
    "b = 1"
   ]
  },
  {
   "cell_type": "code",
   "execution_count": 29,
   "id": "13e8bade",
   "metadata": {},
   "outputs": [],
   "source": [
    "a -= b"
   ]
  },
  {
   "cell_type": "code",
   "execution_count": 30,
   "id": "9d81e170",
   "metadata": {},
   "outputs": [
    {
     "data": {
      "text/plain": [
       "2"
      ]
     },
     "execution_count": 30,
     "metadata": {},
     "output_type": "execute_result"
    }
   ],
   "source": [
    "a"
   ]
  },
  {
   "cell_type": "code",
   "execution_count": 49,
   "id": "5863b922",
   "metadata": {},
   "outputs": [],
   "source": [
    "pi = np.array([.5,.2,.1,.1,.1])"
   ]
  },
  {
   "cell_type": "code",
   "execution_count": 58,
   "id": "33226c55",
   "metadata": {},
   "outputs": [
    {
     "name": "stdout",
     "output_type": "stream",
     "text": [
      "0\n",
      "0\n",
      "0\n",
      "0\n",
      "3\n",
      "0\n",
      "0\n",
      "4\n",
      "1\n",
      "1\n",
      "2\n",
      "0\n",
      "0\n",
      "4\n",
      "3\n",
      "3\n",
      "3\n",
      "1\n",
      "4\n",
      "2\n"
     ]
    }
   ],
   "source": [
    "for _ in range(20):\n",
    "    b = np.random.choice(5, p=pi)\n",
    "    print(b)"
   ]
  },
  {
   "cell_type": "code",
   "execution_count": 39,
   "id": "a3feaa9d",
   "metadata": {},
   "outputs": [
    {
     "data": {
      "text/plain": [
       "2"
      ]
     },
     "execution_count": 39,
     "metadata": {},
     "output_type": "execute_result"
    }
   ],
   "source": [
    "b"
   ]
  },
  {
   "cell_type": "code",
   "execution_count": null,
   "id": "3ecdb2e5",
   "metadata": {},
   "outputs": [],
   "source": []
  }
 ],
 "metadata": {
  "kernelspec": {
   "display_name": "RLCW",
   "language": "python",
   "name": "rl_cw"
  },
  "language_info": {
   "codemirror_mode": {
    "name": "ipython",
    "version": 3
   },
   "file_extension": ".py",
   "mimetype": "text/x-python",
   "name": "python",
   "nbconvert_exporter": "python",
   "pygments_lexer": "ipython3",
   "version": "3.11.8"
  }
 },
 "nbformat": 4,
 "nbformat_minor": 5
}
